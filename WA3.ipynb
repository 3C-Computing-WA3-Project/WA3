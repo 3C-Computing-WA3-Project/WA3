{
  "nbformat": 4,
  "nbformat_minor": 0,
  "metadata": {
    "colab": {
      "provenance": [],
      "collapsed_sections": [
        "FjwLJHFc--LJ"
      ],
      "toc_visible": true,
      "authorship_tag": "ABX9TyPrwE5JwIJ9i003Ue302O9M",
      "include_colab_link": true
    },
    "kernelspec": {
      "name": "python3",
      "display_name": "Python 3"
    },
    "language_info": {
      "name": "python"
    },
    "widgets": {
      "application/vnd.jupyter.widget-state+json": {
        "90a9a8661ab541e184c06ef7166cbe75": {
          "model_module": "@jupyter-widgets/output",
          "model_name": "OutputModel",
          "model_module_version": "1.0.0",
          "state": {
            "_dom_classes": [],
            "_model_module": "@jupyter-widgets/output",
            "_model_module_version": "1.0.0",
            "_model_name": "OutputModel",
            "_view_count": null,
            "_view_module": "@jupyter-widgets/output",
            "_view_module_version": "1.0.0",
            "_view_name": "OutputView",
            "layout": "IPY_MODEL_6202a9902ba6412cba977156a97e5409",
            "msg_id": "",
            "outputs": [
              {
                "output_type": "display_data",
                "data": {
                  "text/plain": "VBox(children=(HTML(value=\"<h1 style='color: teal'>Main Menu</h1>\"), Button(button_style='primary', descriptio…",
                  "application/vnd.jupyter.widget-view+json": {
                    "version_major": 2,
                    "version_minor": 0,
                    "model_id": "adc4ded6b067441dba5baa472a98bdf7"
                  }
                },
                "metadata": {}
              }
            ]
          }
        },
        "6202a9902ba6412cba977156a97e5409": {
          "model_module": "@jupyter-widgets/base",
          "model_name": "LayoutModel",
          "model_module_version": "1.2.0",
          "state": {
            "_model_module": "@jupyter-widgets/base",
            "_model_module_version": "1.2.0",
            "_model_name": "LayoutModel",
            "_view_count": null,
            "_view_module": "@jupyter-widgets/base",
            "_view_module_version": "1.2.0",
            "_view_name": "LayoutView",
            "align_content": null,
            "align_items": null,
            "align_self": null,
            "border": null,
            "bottom": null,
            "display": null,
            "flex": null,
            "flex_flow": null,
            "grid_area": null,
            "grid_auto_columns": null,
            "grid_auto_flow": null,
            "grid_auto_rows": null,
            "grid_column": null,
            "grid_gap": null,
            "grid_row": null,
            "grid_template_areas": null,
            "grid_template_columns": null,
            "grid_template_rows": null,
            "height": null,
            "justify_content": null,
            "justify_items": null,
            "left": null,
            "margin": null,
            "max_height": null,
            "max_width": null,
            "min_height": null,
            "min_width": null,
            "object_fit": null,
            "object_position": null,
            "order": null,
            "overflow": null,
            "overflow_x": null,
            "overflow_y": null,
            "padding": null,
            "right": null,
            "top": null,
            "visibility": null,
            "width": null
          }
        },
        "adc4ded6b067441dba5baa472a98bdf7": {
          "model_module": "@jupyter-widgets/controls",
          "model_name": "VBoxModel",
          "model_module_version": "1.5.0",
          "state": {
            "_dom_classes": [],
            "_model_module": "@jupyter-widgets/controls",
            "_model_module_version": "1.5.0",
            "_model_name": "VBoxModel",
            "_view_count": null,
            "_view_module": "@jupyter-widgets/controls",
            "_view_module_version": "1.5.0",
            "_view_name": "VBoxView",
            "box_style": "",
            "children": [
              "IPY_MODEL_08d52873a6634c67b869d23fd4cf0365",
              "IPY_MODEL_7b9f64270a8a482bbe9bd93a94c8587f",
              "IPY_MODEL_387e385f87394dbe9aeaf33a24d4c561",
              "IPY_MODEL_5dd859a86a044d9581e2bd06bb07c8a0"
            ],
            "layout": "IPY_MODEL_3bad1ae7282f4d4d80d03cf1cebf14ed"
          }
        },
        "08d52873a6634c67b869d23fd4cf0365": {
          "model_module": "@jupyter-widgets/controls",
          "model_name": "HTMLModel",
          "model_module_version": "1.5.0",
          "state": {
            "_dom_classes": [],
            "_model_module": "@jupyter-widgets/controls",
            "_model_module_version": "1.5.0",
            "_model_name": "HTMLModel",
            "_view_count": null,
            "_view_module": "@jupyter-widgets/controls",
            "_view_module_version": "1.5.0",
            "_view_name": "HTMLView",
            "description": "",
            "description_tooltip": null,
            "layout": "IPY_MODEL_02c1a445f58a4e98933f7fb95ecc5876",
            "placeholder": "​",
            "style": "IPY_MODEL_f58e82f1ff4046c6b7b382411cf33333",
            "value": "<h1 style='color: teal'>Main Menu</h1>"
          }
        },
        "7b9f64270a8a482bbe9bd93a94c8587f": {
          "model_module": "@jupyter-widgets/controls",
          "model_name": "ButtonModel",
          "model_module_version": "1.5.0",
          "state": {
            "_dom_classes": [],
            "_model_module": "@jupyter-widgets/controls",
            "_model_module_version": "1.5.0",
            "_model_name": "ButtonModel",
            "_view_count": null,
            "_view_module": "@jupyter-widgets/controls",
            "_view_module_version": "1.5.0",
            "_view_name": "ButtonView",
            "button_style": "primary",
            "description": "Login",
            "disabled": false,
            "icon": "",
            "layout": "IPY_MODEL_7217fdb856b84174b066f20876d61a96",
            "style": "IPY_MODEL_29154d9dda264c0f97d9a9012ca9400f",
            "tooltip": ""
          }
        },
        "387e385f87394dbe9aeaf33a24d4c561": {
          "model_module": "@jupyter-widgets/controls",
          "model_name": "ButtonModel",
          "model_module_version": "1.5.0",
          "state": {
            "_dom_classes": [],
            "_model_module": "@jupyter-widgets/controls",
            "_model_module_version": "1.5.0",
            "_model_name": "ButtonModel",
            "_view_count": null,
            "_view_module": "@jupyter-widgets/controls",
            "_view_module_version": "1.5.0",
            "_view_name": "ButtonView",
            "button_style": "primary",
            "description": "Register",
            "disabled": false,
            "icon": "",
            "layout": "IPY_MODEL_f0bab32a13a149898dd12bedd3c4f3b0",
            "style": "IPY_MODEL_4e60baeb45b74a39be1af024fd4686a4",
            "tooltip": ""
          }
        },
        "5dd859a86a044d9581e2bd06bb07c8a0": {
          "model_module": "@jupyter-widgets/controls",
          "model_name": "ButtonModel",
          "model_module_version": "1.5.0",
          "state": {
            "_dom_classes": [],
            "_model_module": "@jupyter-widgets/controls",
            "_model_module_version": "1.5.0",
            "_model_name": "ButtonModel",
            "_view_count": null,
            "_view_module": "@jupyter-widgets/controls",
            "_view_module_version": "1.5.0",
            "_view_name": "ButtonView",
            "button_style": "danger",
            "description": "Exit",
            "disabled": false,
            "icon": "",
            "layout": "IPY_MODEL_68cddb48410d4c07a90a61d8bc7a57ff",
            "style": "IPY_MODEL_27d96c348fa4469b9e575242ad32523f",
            "tooltip": ""
          }
        },
        "3bad1ae7282f4d4d80d03cf1cebf14ed": {
          "model_module": "@jupyter-widgets/base",
          "model_name": "LayoutModel",
          "model_module_version": "1.2.0",
          "state": {
            "_model_module": "@jupyter-widgets/base",
            "_model_module_version": "1.2.0",
            "_model_name": "LayoutModel",
            "_view_count": null,
            "_view_module": "@jupyter-widgets/base",
            "_view_module_version": "1.2.0",
            "_view_name": "LayoutView",
            "align_content": null,
            "align_items": "center",
            "align_self": null,
            "border": null,
            "bottom": null,
            "display": null,
            "flex": null,
            "flex_flow": null,
            "grid_area": null,
            "grid_auto_columns": null,
            "grid_auto_flow": null,
            "grid_auto_rows": null,
            "grid_column": null,
            "grid_gap": null,
            "grid_row": null,
            "grid_template_areas": null,
            "grid_template_columns": null,
            "grid_template_rows": null,
            "height": null,
            "justify_content": null,
            "justify_items": null,
            "left": null,
            "margin": null,
            "max_height": null,
            "max_width": "100%",
            "min_height": null,
            "min_width": null,
            "object_fit": null,
            "object_position": null,
            "order": null,
            "overflow": null,
            "overflow_x": null,
            "overflow_y": null,
            "padding": null,
            "right": null,
            "top": null,
            "visibility": null,
            "width": null
          }
        },
        "02c1a445f58a4e98933f7fb95ecc5876": {
          "model_module": "@jupyter-widgets/base",
          "model_name": "LayoutModel",
          "model_module_version": "1.2.0",
          "state": {
            "_model_module": "@jupyter-widgets/base",
            "_model_module_version": "1.2.0",
            "_model_name": "LayoutModel",
            "_view_count": null,
            "_view_module": "@jupyter-widgets/base",
            "_view_module_version": "1.2.0",
            "_view_name": "LayoutView",
            "align_content": null,
            "align_items": null,
            "align_self": null,
            "border": null,
            "bottom": null,
            "display": null,
            "flex": null,
            "flex_flow": null,
            "grid_area": null,
            "grid_auto_columns": null,
            "grid_auto_flow": null,
            "grid_auto_rows": null,
            "grid_column": null,
            "grid_gap": null,
            "grid_row": null,
            "grid_template_areas": null,
            "grid_template_columns": null,
            "grid_template_rows": null,
            "height": null,
            "justify_content": null,
            "justify_items": null,
            "left": null,
            "margin": null,
            "max_height": null,
            "max_width": null,
            "min_height": null,
            "min_width": null,
            "object_fit": null,
            "object_position": null,
            "order": null,
            "overflow": null,
            "overflow_x": null,
            "overflow_y": null,
            "padding": null,
            "right": null,
            "top": null,
            "visibility": null,
            "width": null
          }
        },
        "f58e82f1ff4046c6b7b382411cf33333": {
          "model_module": "@jupyter-widgets/controls",
          "model_name": "DescriptionStyleModel",
          "model_module_version": "1.5.0",
          "state": {
            "_model_module": "@jupyter-widgets/controls",
            "_model_module_version": "1.5.0",
            "_model_name": "DescriptionStyleModel",
            "_view_count": null,
            "_view_module": "@jupyter-widgets/base",
            "_view_module_version": "1.2.0",
            "_view_name": "StyleView",
            "description_width": ""
          }
        },
        "7217fdb856b84174b066f20876d61a96": {
          "model_module": "@jupyter-widgets/base",
          "model_name": "LayoutModel",
          "model_module_version": "1.2.0",
          "state": {
            "_model_module": "@jupyter-widgets/base",
            "_model_module_version": "1.2.0",
            "_model_name": "LayoutModel",
            "_view_count": null,
            "_view_module": "@jupyter-widgets/base",
            "_view_module_version": "1.2.0",
            "_view_name": "LayoutView",
            "align_content": null,
            "align_items": null,
            "align_self": null,
            "border": null,
            "bottom": null,
            "display": null,
            "flex": null,
            "flex_flow": null,
            "grid_area": null,
            "grid_auto_columns": null,
            "grid_auto_flow": null,
            "grid_auto_rows": null,
            "grid_column": null,
            "grid_gap": null,
            "grid_row": null,
            "grid_template_areas": null,
            "grid_template_columns": null,
            "grid_template_rows": null,
            "height": null,
            "justify_content": null,
            "justify_items": null,
            "left": null,
            "margin": null,
            "max_height": null,
            "max_width": null,
            "min_height": null,
            "min_width": null,
            "object_fit": null,
            "object_position": null,
            "order": null,
            "overflow": null,
            "overflow_x": null,
            "overflow_y": null,
            "padding": null,
            "right": null,
            "top": null,
            "visibility": null,
            "width": null
          }
        },
        "29154d9dda264c0f97d9a9012ca9400f": {
          "model_module": "@jupyter-widgets/controls",
          "model_name": "ButtonStyleModel",
          "model_module_version": "1.5.0",
          "state": {
            "_model_module": "@jupyter-widgets/controls",
            "_model_module_version": "1.5.0",
            "_model_name": "ButtonStyleModel",
            "_view_count": null,
            "_view_module": "@jupyter-widgets/base",
            "_view_module_version": "1.2.0",
            "_view_name": "StyleView",
            "button_color": null,
            "font_weight": ""
          }
        },
        "f0bab32a13a149898dd12bedd3c4f3b0": {
          "model_module": "@jupyter-widgets/base",
          "model_name": "LayoutModel",
          "model_module_version": "1.2.0",
          "state": {
            "_model_module": "@jupyter-widgets/base",
            "_model_module_version": "1.2.0",
            "_model_name": "LayoutModel",
            "_view_count": null,
            "_view_module": "@jupyter-widgets/base",
            "_view_module_version": "1.2.0",
            "_view_name": "LayoutView",
            "align_content": null,
            "align_items": null,
            "align_self": null,
            "border": null,
            "bottom": null,
            "display": null,
            "flex": null,
            "flex_flow": null,
            "grid_area": null,
            "grid_auto_columns": null,
            "grid_auto_flow": null,
            "grid_auto_rows": null,
            "grid_column": null,
            "grid_gap": null,
            "grid_row": null,
            "grid_template_areas": null,
            "grid_template_columns": null,
            "grid_template_rows": null,
            "height": null,
            "justify_content": null,
            "justify_items": null,
            "left": null,
            "margin": null,
            "max_height": null,
            "max_width": null,
            "min_height": null,
            "min_width": null,
            "object_fit": null,
            "object_position": null,
            "order": null,
            "overflow": null,
            "overflow_x": null,
            "overflow_y": null,
            "padding": null,
            "right": null,
            "top": null,
            "visibility": null,
            "width": null
          }
        },
        "4e60baeb45b74a39be1af024fd4686a4": {
          "model_module": "@jupyter-widgets/controls",
          "model_name": "ButtonStyleModel",
          "model_module_version": "1.5.0",
          "state": {
            "_model_module": "@jupyter-widgets/controls",
            "_model_module_version": "1.5.0",
            "_model_name": "ButtonStyleModel",
            "_view_count": null,
            "_view_module": "@jupyter-widgets/base",
            "_view_module_version": "1.2.0",
            "_view_name": "StyleView",
            "button_color": null,
            "font_weight": ""
          }
        },
        "68cddb48410d4c07a90a61d8bc7a57ff": {
          "model_module": "@jupyter-widgets/base",
          "model_name": "LayoutModel",
          "model_module_version": "1.2.0",
          "state": {
            "_model_module": "@jupyter-widgets/base",
            "_model_module_version": "1.2.0",
            "_model_name": "LayoutModel",
            "_view_count": null,
            "_view_module": "@jupyter-widgets/base",
            "_view_module_version": "1.2.0",
            "_view_name": "LayoutView",
            "align_content": null,
            "align_items": null,
            "align_self": null,
            "border": null,
            "bottom": null,
            "display": null,
            "flex": null,
            "flex_flow": null,
            "grid_area": null,
            "grid_auto_columns": null,
            "grid_auto_flow": null,
            "grid_auto_rows": null,
            "grid_column": null,
            "grid_gap": null,
            "grid_row": null,
            "grid_template_areas": null,
            "grid_template_columns": null,
            "grid_template_rows": null,
            "height": null,
            "justify_content": null,
            "justify_items": null,
            "left": null,
            "margin": null,
            "max_height": null,
            "max_width": null,
            "min_height": null,
            "min_width": null,
            "object_fit": null,
            "object_position": null,
            "order": null,
            "overflow": null,
            "overflow_x": null,
            "overflow_y": null,
            "padding": null,
            "right": null,
            "top": null,
            "visibility": null,
            "width": null
          }
        },
        "27d96c348fa4469b9e575242ad32523f": {
          "model_module": "@jupyter-widgets/controls",
          "model_name": "ButtonStyleModel",
          "model_module_version": "1.5.0",
          "state": {
            "_model_module": "@jupyter-widgets/controls",
            "_model_module_version": "1.5.0",
            "_model_name": "ButtonStyleModel",
            "_view_count": null,
            "_view_module": "@jupyter-widgets/base",
            "_view_module_version": "1.2.0",
            "_view_name": "StyleView",
            "button_color": null,
            "font_weight": ""
          }
        }
      }
    }
  },
  "cells": [
    {
      "cell_type": "markdown",
      "metadata": {
        "id": "view-in-github",
        "colab_type": "text"
      },
      "source": [
        "<a href=\"https://colab.research.google.com/github/3C-Computing-WA3-Project/WA3/blob/feature%2Fzhihao%2Ffinalize-quiz-system/WA3.ipynb\" target=\"_parent\"><img src=\"https://colab.research.google.com/assets/colab-badge.svg\" alt=\"Open In Colab\"/></a>"
      ]
    },
    {
      "cell_type": "markdown",
      "source": [
        "# Global PIP Installation"
      ],
      "metadata": {
        "id": "jnW0nY6tazm7"
      }
    },
    {
      "cell_type": "code",
      "source": [
        "%pip install beanie bcrypt traitlets --q"
      ],
      "metadata": {
        "id": "9aBH672mVaF0"
      },
      "execution_count": 45,
      "outputs": []
    },
    {
      "cell_type": "markdown",
      "source": [
        "# Global Importaion"
      ],
      "metadata": {
        "id": "qd6TzL8PinzH"
      }
    },
    {
      "cell_type": "code",
      "source": [
        "import asyncio\n",
        "import hashlib\n",
        "import inspect\n",
        "import math\n",
        "import nest_asyncio\n",
        "import time\n",
        "import types\n",
        "import random\n",
        "from datetime import datetime\n",
        "\n",
        "from beanie import init_beanie, Document, Indexed, PydanticObjectId\n",
        "from IPython.display import clear_output, display\n",
        "from motor.motor_asyncio import AsyncIOMotorClient\n",
        "from google.colab import userdata\n",
        "from pydantic import BaseModel, Field\n",
        "from pymongo.errors import DuplicateKeyError\n",
        "from traitlets import HasTraits, Unicode, Instance, dlink\n",
        "from typing import Optional, final\n",
        "import bcrypt\n",
        "import ipywidgets as widgets\n",
        "\n",
        "loop = asyncio.get_event_loop()\n",
        "nest_asyncio.apply()"
      ],
      "metadata": {
        "id": "pSrmmTw8iuvn"
      },
      "execution_count": 46,
      "outputs": []
    },
    {
      "cell_type": "markdown",
      "source": [
        "# Simplified MVC Framework"
      ],
      "metadata": {
        "id": "7ZMy8E1Da8a3"
      }
    },
    {
      "cell_type": "code",
      "source": [
        "class AppState(HasTraits):\n",
        "    '''\n",
        "    Dynamic app data\n",
        "    '''\n",
        "    userId = Instance(PydanticObjectId)\n",
        "    name = Unicode()\n",
        "\n",
        "class WidgetTemplate():\n",
        "    directory = dict() # key: prototype instance, value: resultant WidgetTemplate instance id\n",
        "    def __init__(self, prototype: widgets.Widget):\n",
        "        self._cls = prototype.__class__\n",
        "        self._state = {key:value\n",
        "                       for key, value in prototype.get_state(drop_defaults=True).items()\n",
        "                       if key.startswith(\"_\")}\n",
        "\n",
        "        self._args = {key:value\n",
        "                       for key, value in prototype.get_state(drop_defaults=True).items()\n",
        "                       if not key.startswith(\"_\")\n",
        "                       and key not in [\"layout\", \"style\", \"children\"]}\n",
        "        '''\n",
        "        For widgets.Select special case\n",
        "        '''\n",
        "        _options = prototype.get_state(drop_defaults=True).get(\"_options_labels\")\n",
        "        if _options:\n",
        "            self._args[\"options\"] = list(_options)\n",
        "\n",
        "        self._children = list(self.__class__.directory[x] for x in getattr(prototype, \"children\", tuple()))\n",
        "\n",
        "        self._layout = {key:value\n",
        "                        for key, value in prototype.layout.trait_values().items()\n",
        "                        if not key.startswith(\"_\")\n",
        "                        and key not in [\"comm\", \"keys\"]}\n",
        "\n",
        "        self._style = None\n",
        "        if not isinstance(prototype, widgets.Box):\n",
        "            self._style = { key:value\n",
        "                            for key, value in prototype.style.trait_values().items()\n",
        "                            if not key.startswith(\"_\")\n",
        "                            and key not in [\"comm\", \"keys\"]}\n",
        "\n",
        "        self._extra_attrs = {key:value\n",
        "                             for key, value in vars(prototype).items()\n",
        "                             if not key.startswith(\"_\")\n",
        "                             }\n",
        "\n",
        "        self.__class__.directory[prototype] = id(self)\n",
        "\n",
        "    def build(self, resultant_instances):\n",
        "        clone = self._cls(**self._args)\n",
        "        clone.set_state(self._state)\n",
        "        children = list()\n",
        "        for x in self._children:\n",
        "            children.append(resultant_instances[x])\n",
        "\n",
        "        if len(children):\n",
        "            clone.children = children\n",
        "\n",
        "        clone.layout = widgets.Layout(**self._layout)\n",
        "        if self._style is not None:\n",
        "            clone.style = type(clone.style)(**self._style)\n",
        "\n",
        "        for key, value in self._extra_attrs.items():\n",
        "            setattr(clone, key, value)\n",
        "\n",
        "        return clone\n",
        "\n",
        "class ViewBase():\n",
        "    def __init_subclass__(cls):\n",
        "        cls.template = dict()\n",
        "        for name, val in vars(cls).items():\n",
        "            if isinstance(val, widgets.Widget):\n",
        "                cls.template[name] = WidgetTemplate(val)\n",
        "    @final\n",
        "    def __init__(self, appstate):\n",
        "        self.resultant_instances = dict() # key: WidgetTemplate instance id, value: resultant widget instance\n",
        "        self.appstate = appstate\n",
        "        self.widgets_dict = dict()\n",
        "        self.to_render_widgets = list()\n",
        "\n",
        "        for name, val in self.__class__.template.items():\n",
        "            widget = val.build(self.resultant_instances)\n",
        "            self.resultant_instances[id(val)] = widget\n",
        "\n",
        "            self.widgets_dict[name] = widget\n",
        "            setattr(self, name, widget)\n",
        "\n",
        "            if not getattr(widget, \"isIgnored\", False):\n",
        "                self.to_render_widgets.append(widget)\n",
        "\n",
        "        self.inject_before_init_sync()\n",
        "        loop.run_until_complete(self.inject_before_init_async())\n",
        "\n",
        "    @final\n",
        "    def to_render(self) -> widgets.VBox:\n",
        "        return widgets.VBox(\n",
        "                self.to_render_widgets,\n",
        "                layout = widgets.Layout(\n",
        "                    max_width =\"100%\",\n",
        "                    align_items=\"center\"\n",
        "                    )\n",
        "                )\n",
        "\n",
        "    @final\n",
        "    def destroy_all(self):\n",
        "        for widget in self.widgets_dict.values():\n",
        "            widget.close()\n",
        "\n",
        "    def inject_before_init_sync(self):\n",
        "        pass\n",
        "\n",
        "    async def inject_before_init_async(self):\n",
        "        pass\n",
        "\n",
        "    @final\n",
        "    def binder(self, widget, nameoftrait, transform=None):\n",
        "        '''\n",
        "        A helper method that explicitly link the app state trait to the expected widget.\n",
        "        '''\n",
        "        if isinstance(widget, widgets.Widget) and hasattr(self.appstate, nameoftrait):\n",
        "            if transform:\n",
        "                dlink((self.appstate, nameoftrait), (widget, \"value\"), transform=transform)\n",
        "            else:\n",
        "                dlink((self.appstate, nameoftrait), (widget, \"value\"))\n",
        "        else:\n",
        "            raise TypeError(f\"Expected Widget type and valid trait name. Got widget: {type(widget)}, name of trait: {nameoftrait}\")\n",
        "\n",
        "class ControllerBase():\n",
        "    _required_arguments = {}\n",
        "\n",
        "    def __init_subclass__(cls):\n",
        "        if not hasattr(cls, \"_obj_view\"):\n",
        "            raise AttributeError(f\"{cls.__name__} must define _obj_view.\")\n",
        "\n",
        "        if not isinstance(cls._obj_view, type) or not issubclass(cls._obj_view, ViewBase):\n",
        "            raise TypeError(f\"{cls.__name__}._obj_view must be a subclass of ViewBase\")\n",
        "\n",
        "        if hasattr(cls, \"_required_arguments\"):\n",
        "            if not isinstance(cls._required_arguments, dict):\n",
        "                raise TypeError(f\"{cls.__name__}._required_arguments must be a dict\")\n",
        "\n",
        "            if not all(isinstance(x, str) for x in cls._required_arguments.keys()):\n",
        "                raise TypeError(f\"{cls.__name__}._required_arguments must have string keys\")\n",
        "\n",
        "    @final\n",
        "    def __init__(self, appstate, router, **kwargs):\n",
        "        for key, expected_type in self.__class__._required_arguments.items():\n",
        "            if key not in kwargs:\n",
        "                raise ValueError(f\"Missing required argument: '{key}'\")\n",
        "            if not (isinstance(kwargs[key], expected_type) or callable(kwargs[key])):\n",
        "                raise TypeError(f\"Argument '{key}' should be of type {expected_type.__name__}, got {type(kwargs[key]).__name__}\")\n",
        "\n",
        "            setattr(self, key, kwargs[key])\n",
        "\n",
        "        self.kwargs = kwargs\n",
        "        self.appstate = appstate\n",
        "        self.router = router\n",
        "        self._obj_view = self.__class__._obj_view\n",
        "\n",
        "    @final\n",
        "    def binding(self):\n",
        "        for name, widget in self.view.widgets_dict.items():\n",
        "            func = None\n",
        "\n",
        "            if isinstance(widget, widgets.Button):\n",
        "                func = getattr(self, f\"on_{name}\")\n",
        "            else:\n",
        "                continue\n",
        "\n",
        "            if inspect.iscoroutinefunction(func):\n",
        "                async def wrapper(event, f=func, w=widget):\n",
        "                    w.disabled = True\n",
        "                    await f(event)\n",
        "                    w.disabled = False\n",
        "\n",
        "                widget.on_click(lambda event: loop.run_until_complete(wrapper(event)))\n",
        "\n",
        "            else:\n",
        "                def wrapper(event, f=func, w=widget):\n",
        "                    w.disabled = True\n",
        "                    f(event)\n",
        "                    w.disabled = False\n",
        "                widget.on_click(wrapper)\n",
        "\n",
        "    @final\n",
        "    def show(self, isClear=True, isRebuild=False, isDisplay=True):\n",
        "        if hasattr(self, \"view\") and isRebuild:\n",
        "            self.view.destroy_all()\n",
        "\n",
        "        if not hasattr(self, \"view\") or isRebuild:\n",
        "            self.view = self._obj_view(self.appstate)\n",
        "            self.binding()\n",
        "\n",
        "        self.inject_before_show_sync()\n",
        "        loop.run_until_complete(self.inject_before_show_async())\n",
        "\n",
        "        if isDisplay:\n",
        "            with self.router.container:\n",
        "                display(self.view.to_render(), clear = isClear)\n",
        "\n",
        "    @final\n",
        "    def clone(self, n: int):\n",
        "        for x in range(0, n):\n",
        "            controller = type(self)(self.appstate, self.router, **self.kwargs)\n",
        "            controller.show(isClear=False, isDisplay=False)\n",
        "            yield controller.view.to_render()\n",
        "\n",
        "    def inject_before_show_sync(self):\n",
        "        pass\n",
        "\n",
        "    async def inject_before_show_async(self):\n",
        "        pass\n",
        "\n",
        "class Router:\n",
        "    def __init__(self):\n",
        "        self.appstate = AppState()\n",
        "        self.controllers = dict()\n",
        "        self.container = widgets.Output()\n",
        "        display(self.container)\n",
        "\n",
        "    def register_one(self, controller: ControllerBase, **kwargs):\n",
        "        '''\n",
        "        As `AppState` class is an instance, I cannot pre-define the value in the ControllerBase and ViewBase class,\n",
        "        so that I have to inject the AppState instance during runtime.\n",
        "        '''\n",
        "        if not issubclass(controller, ControllerBase):\n",
        "            raise TypeError(f\"Expected ControllerBase type got {type(controller)}\")\n",
        "\n",
        "        self.controllers[controller.__name__] = controller(self.appstate, self, **kwargs)\n",
        "\n",
        "    def go(self, controller: ControllerBase, **kwargs):\n",
        "        '''\n",
        "        `controller` argument takes ControllerBase object.\n",
        "        This function go the given `controller`\n",
        "        '''\n",
        "        self.controllers[controller.__name__].show(**kwargs)"
      ],
      "metadata": {
        "id": "o5VW0gMrg6x_"
      },
      "execution_count": 47,
      "outputs": []
    },
    {
      "cell_type": "markdown",
      "source": [
        "# Data Models"
      ],
      "metadata": {
        "id": "NzOwDJDaidHT"
      }
    },
    {
      "cell_type": "code",
      "source": [
        "class Quiz(BaseModel):\n",
        "    question: str\n",
        "    answer: list[str]\n",
        "    solution: str"
      ],
      "metadata": {
        "id": "3HSLpZGrlGl4"
      },
      "execution_count": 48,
      "outputs": []
    },
    {
      "cell_type": "code",
      "source": [
        "class UserModel(Document):\n",
        "    name: str\n",
        "    username: Indexed(str, unique=True)\n",
        "    hashedPassword: str\n",
        "\n",
        "    class Settings:\n",
        "        collection = \"UserModel\""
      ],
      "metadata": {
        "id": "eCtQZWnglHio"
      },
      "execution_count": 49,
      "outputs": []
    },
    {
      "cell_type": "code",
      "source": [
        "class QuestionModel(Document):\n",
        "    question_content: Quiz\n",
        "    title: str\n",
        "    question_hash: Indexed(str, unique=True)\n",
        "    class Settings:\n",
        "        collection = \"QuestionsBank\""
      ],
      "metadata": {
        "id": "kQgz5H-glJBU"
      },
      "execution_count": 50,
      "outputs": []
    },
    {
      "cell_type": "code",
      "source": [
        "class AttemptModel(Document):\n",
        "    userId: PydanticObjectId\n",
        "    questionId: PydanticObjectId\n",
        "    timeStamp: datetime = Field(default_factory=datetime.now)\n",
        "    isCorrect: bool = False\n",
        "    '''\n",
        "    Every submission counts just before it is answered correctly.\n",
        "    The default of `timesOfAnswer` is one as the model will only be inserted if the user submit the answer.\n",
        "    '''\n",
        "    timesOfAnswering: int = 1\n",
        "    class Settings:\n",
        "        collection = \"AttemptModel\""
      ],
      "metadata": {
        "id": "G5Zi-A1Eih5s"
      },
      "execution_count": 51,
      "outputs": []
    },
    {
      "cell_type": "markdown",
      "source": [
        "# App"
      ],
      "metadata": {
        "id": "apTMbH_4dUNF"
      }
    },
    {
      "cell_type": "markdown",
      "source": [
        "## Make Title"
      ],
      "metadata": {
        "id": "FjwLJHFc--LJ"
      }
    },
    {
      "cell_type": "code",
      "source": [
        "def make_title(text, _layout=None):\n",
        "    return widgets.HTML(f\"<h1 style='color: teal'>{text}</h1>\",layout=_layout if _layout is not None else widgets.Layout(\n",
        "        text_align=\"center\"\n",
        "))"
      ],
      "metadata": {
        "id": "7P_LWzcW-9oh"
      },
      "execution_count": 52,
      "outputs": []
    },
    {
      "cell_type": "markdown",
      "source": [
        "## Main Menu UI"
      ],
      "metadata": {
        "id": "nBYIa7ps-xqu"
      }
    },
    {
      "cell_type": "markdown",
      "source": [
        "### Main Menu View"
      ],
      "metadata": {
        "id": "HlrKaBXC-0pX"
      }
    },
    {
      "cell_type": "code",
      "source": [
        "class MainMenuView(ViewBase):\n",
        "    title = make_title(\"Main Menu\")\n",
        "\n",
        "    btn_login = widgets.Button(\n",
        "            description=\"Login\",\n",
        "            disabled=False,\n",
        "            button_style=\"primary\"\n",
        "    )\n",
        "\n",
        "    btn_register = widgets.Button(\n",
        "            description=\"Register\",\n",
        "            disabled=False,\n",
        "            button_style=\"primary\"\n",
        "    )\n",
        "\n",
        "    btn_exit = widgets.Button(\n",
        "            description=\"Exit\",\n",
        "            disabled=False,\n",
        "            button_style=\"danger\"\n",
        "    )"
      ],
      "metadata": {
        "id": "T1puuzN7-5Cw"
      },
      "execution_count": 53,
      "outputs": []
    },
    {
      "cell_type": "markdown",
      "source": [
        "### Main Menu Controller"
      ],
      "metadata": {
        "id": "WXKeM_5-_H-s"
      }
    },
    {
      "cell_type": "code",
      "source": [
        "class MainMenuController(ControllerBase):\n",
        "    _obj_view = MainMenuView\n",
        "\n",
        "    def on_btn_login(self, event):\n",
        "        self.router.go(LoginController, isRebuild=True)\n",
        "\n",
        "    def on_btn_register(self, event):\n",
        "        self.router.go(RegisterController, isRebuild=True)\n",
        "\n",
        "    def on_btn_exit(self, event):\n",
        "        pass"
      ],
      "metadata": {
        "id": "iWkjNn5-_MBA"
      },
      "execution_count": 54,
      "outputs": []
    },
    {
      "cell_type": "markdown",
      "source": [
        "## Login UI"
      ],
      "metadata": {
        "id": "vuL__X4S_Rvg"
      }
    },
    {
      "cell_type": "markdown",
      "source": [
        "### Login View"
      ],
      "metadata": {
        "id": "z2xUHhKz_Zg8"
      }
    },
    {
      "cell_type": "code",
      "source": [
        "class LoginView(ViewBase):\n",
        "    title = make_title(\"Login Page\")\n",
        "\n",
        "    username = widgets.Text(\n",
        "        placeholder='Enter your username',\n",
        "        description='Username: ',\n",
        "        disabled=False,\n",
        "    )\n",
        "\n",
        "    password = widgets.Password(\n",
        "        description='Password:',\n",
        "        disabled=False,\n",
        "    )\n",
        "\n",
        "    error_text = widgets.HTML(\n",
        "        value=\"<strong style='color:red'>Invalid username or/and password</strong>\",\n",
        "        layout=widgets.Layout(display=\"none\")\n",
        "    )\n",
        "\n",
        "    btn_exit = widgets.Button(\n",
        "        description=\"Exit\",\n",
        "        disabled=False,\n",
        "        button_style=\"danger\"\n",
        "    )\n",
        "    btn_exit.isIgnored = True\n",
        "\n",
        "    btn_login = widgets.Button(\n",
        "        description=\"Login\",\n",
        "        disabled=False,\n",
        "        button_style=\"primary\"\n",
        "    )\n",
        "    btn_login.isIgnored = True\n",
        "\n",
        "    box = widgets.HBox([btn_exit, btn_login], layout=widgets.Layout(\n",
        "        justify_content=\"space-between\",\n",
        "        grid_gap=\"1.5em\"\n",
        "    ))"
      ],
      "metadata": {
        "id": "375TRozJ_a6Q"
      },
      "execution_count": 55,
      "outputs": []
    },
    {
      "cell_type": "markdown",
      "source": [
        "### Login Controller"
      ],
      "metadata": {
        "id": "wACil_Hx_WqM"
      }
    },
    {
      "cell_type": "code",
      "source": [
        "class LoginController(ControllerBase):\n",
        "    _obj_view = LoginView\n",
        "\n",
        "    def on_btn_exit(self, event):\n",
        "        self.router.go(MainMenuController)\n",
        "\n",
        "    async def on_btn_login(self, event):\n",
        "        self.view.error_text.layout.display = \"none\"\n",
        "\n",
        "        username = self.view.username.value\n",
        "        pwd = self.view.password.value\n",
        "\n",
        "        result = await UserModel.find_one(UserModel.username == username)\n",
        "        hash = \"\"\n",
        "        fakeHash = bcrypt.hashpw(b\"invalid\", bcrypt.gensalt()) # the register function restricted the lenght of password to be at least eight-character long. Suggested by https://cheatsheetseries.owasp.org/cheatsheets/Authentication_Cheat_Sheet.html#authentication-responses\n",
        "\n",
        "        if result is not None:\n",
        "            hash = result.hashedPassword.encode(\"utf-8\")\n",
        "        else:\n",
        "            hash = fakeHash\n",
        "\n",
        "        isAuth = bcrypt.checkpw(pwd.encode(\"utf-8\"), hash) and result is not None\n",
        "        if isAuth:\n",
        "            self.appstate.name = result.name\n",
        "            self.appstate.userId = result.id\n",
        "            self.router.go(DashboardController)\n",
        "        else:\n",
        "            self.view.error_text.layout.display = \"\""
      ],
      "metadata": {
        "id": "Dl6CCWZY_gBY"
      },
      "execution_count": 56,
      "outputs": []
    },
    {
      "cell_type": "markdown",
      "source": [
        "## Register UI"
      ],
      "metadata": {
        "id": "A17UXpOR_lJo"
      }
    },
    {
      "cell_type": "markdown",
      "source": [
        "### Register View"
      ],
      "metadata": {
        "id": "3A6cesDC_3Dt"
      }
    },
    {
      "cell_type": "code",
      "source": [
        "class RegisterView(ViewBase):\n",
        "    title = make_title(\"Register Page\")\n",
        "\n",
        "    name = widgets.Text(\n",
        "            placeholder='Enter your name',\n",
        "            description='Name: ',\n",
        "            disabled=False,\n",
        "            style={'description_width': '140px'}\n",
        "    )\n",
        "\n",
        "    username = widgets.Text(\n",
        "        placeholder='Enter your username',\n",
        "        description='Username: ',\n",
        "        disabled=False,\n",
        "        style={'description_width': '140px'}\n",
        "    )\n",
        "\n",
        "    password = widgets.Password(\n",
        "        description='Password:',\n",
        "        disabled=False,\n",
        "        style={'description_width': '140px'}\n",
        "    )\n",
        "\n",
        "    confirmed_password = widgets.Password(\n",
        "        description='Confirmed Password:',\n",
        "        disabled=False,\n",
        "        style={'description_width': '140px'}\n",
        "    )\n",
        "\n",
        "    error_text_password_not_match = widgets.HTML(\n",
        "        value=\"<strong style='color:red'>Password does not match!</strong>\",\n",
        "        layout=widgets.Layout(display=\"none\")\n",
        "    )\n",
        "\n",
        "    error_text_password_length = widgets.HTML(\n",
        "        value=\"<strong style='color:red'>Password is too short!</strong>\",\n",
        "        layout=widgets.Layout(display=\"none\")\n",
        "    )\n",
        "\n",
        "    error_text_username = widgets.HTML(\n",
        "        value=\"<strong style='color:red'>This username is chosen!</strong>\",\n",
        "        layout=widgets.Layout(display=\"none\")\n",
        "    )\n",
        "\n",
        "    btn_exit = widgets.Button(\n",
        "        description=\"Exit\",\n",
        "        disabled=False,\n",
        "        button_style=\"danger\"\n",
        "    )\n",
        "    btn_exit.isIgnored = True\n",
        "\n",
        "    btn_register = widgets.Button(\n",
        "        description=\"Register\",\n",
        "        disabled=False,\n",
        "        button_style=\"primary\"\n",
        "    )\n",
        "    btn_register.isIgnored = True\n",
        "\n",
        "    box = widgets.HBox([btn_exit, btn_register], layout=widgets.Layout(\n",
        "        justify_content=\"space-between\",\n",
        "        grid_gap=\"1.5em\"\n",
        "    ))\n",
        "\n",
        "    succeeded = widgets.HTML(\n",
        "        value=\"<strong style='color:green'>Successfully registered an account! Click 'exit' to return back.</strong>\",\n",
        "        layout=widgets.Layout(display=\"none\")\n",
        "    )"
      ],
      "metadata": {
        "id": "9Zkqpkow_2S5"
      },
      "execution_count": 57,
      "outputs": []
    },
    {
      "cell_type": "markdown",
      "source": [
        "### Register Controller"
      ],
      "metadata": {
        "id": "FjimS2ZX_vA8"
      }
    },
    {
      "cell_type": "code",
      "source": [
        "class RegisterController(ControllerBase):\n",
        "    _obj_view = RegisterView\n",
        "\n",
        "    def on_btn_exit(self, event):\n",
        "        self.router.go(MainMenuController)\n",
        "\n",
        "    async def on_btn_register(self, event):\n",
        "        try:\n",
        "            self.view.error_text_password_not_match.layout.display = \"none\"\n",
        "            self.view.error_text_password_length.layout.display = \"none\"\n",
        "            self.view.error_text_username.layout.display = \"none\"\n",
        "            self.view.succeeded.layout.display = \"none\"\n",
        "\n",
        "            pwd = self.view.password.value\n",
        "            conf = self.view.confirmed_password.value\n",
        "\n",
        "            # validation\n",
        "            if pwd != conf:\n",
        "                self.view.error_text_password_not_match.layout.display = \"\"\n",
        "                return\n",
        "\n",
        "            if len(pwd) < 8:\n",
        "                self.view.error_text_password_length.layout.display = \"\"\n",
        "                return\n",
        "\n",
        "            salt = bcrypt.gensalt()\n",
        "            hashed = bcrypt.hashpw(pwd.encode(\"utf-8\"), salt)\n",
        "\n",
        "            data = UserModel(\n",
        "                name=self.view.name.value,\n",
        "                username=self.view.username.value,\n",
        "                hashedPassword=hashed\n",
        "            )\n",
        "            self.data = data\n",
        "            await data.insert()\n",
        "            self.view.succeeded.layout.display = \"\"\n",
        "\n",
        "        except DuplicateKeyError:\n",
        "            self.view.error_text_username.layout.display = \"\""
      ],
      "metadata": {
        "id": "EXZCe1J1_xUE"
      },
      "execution_count": 58,
      "outputs": []
    },
    {
      "cell_type": "markdown",
      "source": [
        "## Dashboard UI"
      ],
      "metadata": {
        "id": "FWWX1Y6-_-Ae"
      }
    },
    {
      "cell_type": "markdown",
      "source": [
        "### Dashboard View"
      ],
      "metadata": {
        "id": "dFjAVoZcATYo"
      }
    },
    {
      "cell_type": "code",
      "source": [
        "class DashboardView(ViewBase):\n",
        "\n",
        "    title = make_title(\"Dashboard\")\n",
        "    title.isIgnored = True\n",
        "\n",
        "    btn_sign_out = widgets.Button(\n",
        "        description=\"Sign Out\",\n",
        "        disabled=False,\n",
        "        button_style=\"danger\"\n",
        "    )\n",
        "    btn_sign_out.isIgnored = True\n",
        "\n",
        "    header = widgets.HBox([title, btn_sign_out], layout=widgets.Layout(\n",
        "        justify_content=\"space-between\",\n",
        "        align_items=\"center\",\n",
        "        width=\"auto\",\n",
        "    ))\n",
        "    header.isIgnored = True\n",
        "\n",
        "    welcome_msg = widgets.HTML()\n",
        "    welcome_msg.isIgnored = True\n",
        "\n",
        "    options = widgets.Select(\n",
        "        options=[\"Quadratic Equation\"],\n",
        "        description=\"Topics: \",\n",
        "        disabled=False,\n",
        "        style={\n",
        "            'description_width': 'initial'\n",
        "        }\n",
        "    )\n",
        "    options.isIgnored = True\n",
        "\n",
        "    btn_proceed = widgets.Button(\n",
        "        description=\"Proceed\",\n",
        "        disabled=False,\n",
        "        button_style=\"info\"\n",
        "    )\n",
        "    btn_proceed.isIgnored = True\n",
        "\n",
        "    container_options = widgets.VBox([options, btn_proceed], layout=widgets.Layout(\n",
        "        align_items=\"center\",\n",
        "        width=\"30em\"\n",
        "    ))\n",
        "    container_options.isIgnored = True\n",
        "\n",
        "    center = widgets.HBox([welcome_msg, container_options], layout=widgets.Layout(\n",
        "        margin=\"1px 0\",\n",
        "        width=\"auto\",\n",
        "        display=\"grid\"\n",
        "    ))\n",
        "    center.isIgnored = True\n",
        "\n",
        "    Layout = widgets.AppLayout(\n",
        "        header=header,\n",
        "        left_sidebar=None,\n",
        "        center=center,\n",
        "        right_sidebar=None,\n",
        "        footer=None,\n",
        "        layout=widgets.Layout(\n",
        "            width=\"100%\",\n",
        "            padding=\"1em\",\n",
        "        )\n",
        "    )\n",
        "\n",
        "    def inject_before_init_sync(self):\n",
        "        self.binder(self.welcome_msg, AppState.name.name, lambda x: f\"<strong>Welcome back! How are you, <span style='color:green'>{x}</span>?<strong/>\")"
      ],
      "metadata": {
        "id": "AOdbCo3gAWau"
      },
      "execution_count": 59,
      "outputs": []
    },
    {
      "cell_type": "markdown",
      "source": [
        "### Dashboard Controller"
      ],
      "metadata": {
        "id": "eO_6Sn8UANh3"
      }
    },
    {
      "cell_type": "code",
      "source": [
        "class DashboardController(ControllerBase):\n",
        "    _obj_view = DashboardView\n",
        "\n",
        "    def on_btn_sign_out(self, event):\n",
        "        self.router.go(MainMenuController)\n",
        "\n",
        "    def on_btn_proceed(self, event):\n",
        "        match self.view.options.value:\n",
        "            case \"Quadratic Equation\":\n",
        "                self.router.go(QuadraticEquationController, isRebuild = True)"
      ],
      "metadata": {
        "id": "Mpb8wigKAP1e"
      },
      "execution_count": 60,
      "outputs": []
    },
    {
      "cell_type": "markdown",
      "source": [
        "## Single Question UI (Helper Classes)"
      ],
      "metadata": {
        "id": "h9fNnyNXoW-5"
      }
    },
    {
      "cell_type": "markdown",
      "source": [
        "### Single Question View"
      ],
      "metadata": {
        "id": "gaiyMhFnoZrr"
      }
    },
    {
      "cell_type": "code",
      "execution_count": 61,
      "metadata": {
        "id": "MsU-51TnTtR6"
      },
      "outputs": [],
      "source": [
        "class SingleQuestionGeneratorView(ViewBase):\n",
        "    prompt = widgets.HTML()\n",
        "    prompt.isIgnored = True\n",
        "\n",
        "    answer_input = widgets.Text(\n",
        "        placeholder=\"Enter your answer\",\n",
        "        disabled=False\n",
        "    )\n",
        "    answer_input.isIgnored = True\n",
        "\n",
        "    correct = widgets.HTML(\"<strong style='color:green'>Correct!</strong>\",\n",
        "                           layout=widgets.Layout(\n",
        "                               display=\"none\"\n",
        "    ))\n",
        "    correct.isIgnored = True\n",
        "\n",
        "    incorrect = widgets.HTML(\"<strong style='color:red'>Incorrect! Try again or show the solution</strong>\",\n",
        "                             layout=widgets.Layout(\n",
        "                                display=\"none\"\n",
        "    ))\n",
        "    incorrect.isIgnored = True\n",
        "\n",
        "    solution = widgets.HTML(\n",
        "        layout = widgets.Layout(\n",
        "            display=\"none\"\n",
        "    ))\n",
        "    solution.isIgnored = True\n",
        "\n",
        "    show_solution_btn = widgets.Button(\n",
        "        description=\"Show Solution\",\n",
        "        disabled=False,\n",
        "        button_style=\"warning\",\n",
        "        layout=widgets.Layout(display=\"none\")\n",
        "    )\n",
        "    show_solution_btn.isIgnored = True\n",
        "\n",
        "    submit_btn = widgets.Button(\n",
        "                description=\"Submit\",\n",
        "                disabled=False,\n",
        "                button_style=\"info\"\n",
        "    )\n",
        "    submit_btn.isIgnored = True\n",
        "\n",
        "    btn_container = widgets.HBox([submit_btn, show_solution_btn], layout = widgets.Layout(width=\"85%\", justify_content = \"space-around\"))\n",
        "    btn_container.isIgnored = True\n",
        "\n",
        "    quiz_container = widgets.VBox([prompt, answer_input, solution, btn_container, correct, incorrect], layout=widgets.Layout(\n",
        "        border=\"3px solid\",\n",
        "        padding=\"1em\",\n",
        "        margin=\"3em 0\",\n",
        "        align_items=\"center\",\n",
        "        justify_content=\"center\",\n",
        "        width=\"50em\",\n",
        "        height=\"20em\",\n",
        "        display=\"flex\"\n",
        "    ))"
      ]
    },
    {
      "cell_type": "markdown",
      "source": [
        "### Single Question Controller"
      ],
      "metadata": {
        "id": "UbpMeQoSouIz"
      }
    },
    {
      "cell_type": "code",
      "source": [
        "class SingleQuestionGeneratorController(ControllerBase):\n",
        "    _obj_view = SingleQuestionGeneratorView\n",
        "    _required_arguments = {\n",
        "        \"question_generator\" : Quiz,\n",
        "        \"title\" : str,\n",
        "    }\n",
        "\n",
        "    async def inject_before_show_async(self):\n",
        "        self.isSubmitted = False\n",
        "        self.question = await self.get_unseen_question()\n",
        "        self.view.prompt.value = f\"<strong>{self.question.question}</strong>\"\n",
        "        _sol = self.question.solution.replace(\"\\n\", \"<br>\")\n",
        "        self.view.solution.value = f\"<strong>{_sol}</strong>\"\n",
        "\n",
        "    async def get_unseen_question(self):\n",
        "        seen_question_ids = list(x[\"questionId\"]\n",
        "                                 for x in await AttemptModel.find(\n",
        "            AttemptModel.userId == self.appstate.userId\n",
        "        ).aggregate([{\"$project\" : {\"questionId\": 1, \"_id\": 0}}]).to_list())\n",
        "\n",
        "        unseen_question = await QuestionModel.find(\n",
        "            {\"$and\": [{\"title\": self.title}, {\"_id\": {\"$nin\": seen_question_ids}}]}\n",
        "        ).aggregate([{\"$sample\": {\"size\" : 1}}]).to_list()\n",
        "\n",
        "        if len(unseen_question) < 1:\n",
        "            while True:\n",
        "                try:\n",
        "                    question_content = self.question_generator()\n",
        "\n",
        "                    new_question_model = QuestionModel(\n",
        "                        question_content = question_content,\n",
        "                        title = self.title,\n",
        "                        question_hash = hashlib.sha256(question_content.question.encode()).hexdigest()\n",
        "                    )\n",
        "                    await new_question_model.insert()\n",
        "                    unseen_question.append(new_question_model)\n",
        "                    break\n",
        "                except DuplicateKeyError:\n",
        "                    pass # Try again\n",
        "\n",
        "            self.attempt = AttemptModel(\n",
        "                userId = self.appstate.userId,\n",
        "                questionId = unseen_question[0].id,\n",
        "                isCorrect = False\n",
        "            )\n",
        "            await self.attempt.insert()\n",
        "            return unseen_question[0].question_content\n",
        "\n",
        "        else:\n",
        "            self.attempt = AttemptModel(\n",
        "                userId = self.appstate.userId,\n",
        "                questionId = unseen_question[0][\"_id\"],\n",
        "                isCorrect = False\n",
        "            )\n",
        "            await self.attempt.insert()\n",
        "            return Quiz(**unseen_question[0][\"question_content\"])\n",
        "\n",
        "    def on_show_solution_btn(self, event):\n",
        "        self.view.solution.layout.display = \"\"\n",
        "\n",
        "    async def on_submit_btn(self, event):\n",
        "        isCorrect = any(self.view.answer_input.value.strip() == x for x in self.question.answer)\n",
        "        self.view.correct.layout.display=\"none\"\n",
        "        self.view.incorrect.layout.display=\"none\"\n",
        "        if isCorrect:\n",
        "            self.view.correct.layout.display=\"\"\n",
        "        else:\n",
        "            self.view.incorrect.layout.display=\"\"\n",
        "            self.view.show_solution_btn.layout.display=\"\"\n",
        "\n",
        "        prev = self.attempt.isCorrect\n",
        "        self.attempt.isCorrect = isCorrect or self.attempt.isCorrect\n",
        "        self.attempt.timesOfAnswering += 1 if not prev else 0\n",
        "        await self.attempt.save()\n",
        "\n",
        "        self.isSubmitted = True"
      ],
      "metadata": {
        "id": "eokewyQqpL2W"
      },
      "execution_count": 62,
      "outputs": []
    },
    {
      "cell_type": "markdown",
      "source": [
        "## Quadratic Equation UI"
      ],
      "metadata": {
        "id": "_Y062nwjmb0c"
      }
    },
    {
      "cell_type": "markdown",
      "source": [
        "#### Quadratic Equation View"
      ],
      "metadata": {
        "id": "Cq7bzLFdm56w"
      }
    },
    {
      "cell_type": "code",
      "source": [
        "class QuadraticEquationView(ViewBase):\n",
        "    title = make_title(\"Quadratic Equation\")\n",
        "\n",
        "    btn_exit = widgets.Button(\n",
        "        description = \"Exit\",\n",
        "        button_style = \"danger\"\n",
        "    )"
      ],
      "metadata": {
        "id": "UMG2H_l8m8tp"
      },
      "execution_count": 63,
      "outputs": []
    },
    {
      "cell_type": "markdown",
      "source": [
        "#### Quadratic Equation Controller"
      ],
      "metadata": {
        "id": "Fg7a0y7ym0dq"
      }
    },
    {
      "cell_type": "code",
      "source": [
        "class QuadraticEquationController(ControllerBase):\n",
        "    _obj_view = QuadraticEquationView\n",
        "    def inject_before_show_sync(self):\n",
        "        self.view.to_render_widgets.extend(SingleQuestionGeneratorController(self.appstate, self.router, question_generator = self.gen, title=\"Quadratic Equation\").clone(5))\n",
        "\n",
        "    def on_btn_exit(self, event):\n",
        "        self.router.go(DashboardController)\n",
        "\n",
        "    def gen(self):\n",
        "        #-------------------------------------------\n",
        "        # Wrie your code here!\n",
        "        #-------------------------------------------\n",
        "        import random\n",
        "        question = \"Sample Question\" + str(random.randint(0 ,1000))\n",
        "        solution = \"Sample Solution\"\n",
        "        answer = [\"test1\", \"test2\"]\n",
        "        return Quiz(question = question, solution = solution, answer = answer)"
      ],
      "metadata": {
        "id": "syiD9iAHnAUp"
      },
      "execution_count": 64,
      "outputs": []
    },
    {
      "cell_type": "markdown",
      "source": [
        "## Entry Point"
      ],
      "metadata": {
        "id": "R6v6e-jLpb28"
      }
    },
    {
      "cell_type": "code",
      "source": [
        "print(\"Trying to connect to the database...\")\n",
        "\n",
        "# Create a new client and connect to the server\n",
        "client = AsyncIOMotorClient(userdata.get(\"MongoDBAtlasConnectionString\")) # The connection string will be revoked after WA3 is graded\n",
        "\n",
        "await init_beanie(database=client[\"WA3\"], document_models=[UserModel, QuestionModel, AttemptModel])\n",
        "await client.admin.command('ping')\n",
        "\n",
        "print(\"Connected!\")\n",
        "time.sleep(0.3)\n",
        "\n",
        "clear_output()\n",
        "\n",
        "router = Router()\n",
        "router.register_one(MainMenuController)\n",
        "router.register_one(RegisterController)\n",
        "router.register_one(LoginController)\n",
        "router.register_one(DashboardController)\n",
        "router.register_one(QuadraticEquationController)\n",
        "\n",
        "router.go(MainMenuController)"
      ],
      "metadata": {
        "colab": {
          "base_uri": "https://localhost:8080/",
          "height": 166,
          "referenced_widgets": [
            "90a9a8661ab541e184c06ef7166cbe75",
            "6202a9902ba6412cba977156a97e5409",
            "adc4ded6b067441dba5baa472a98bdf7",
            "08d52873a6634c67b869d23fd4cf0365",
            "7b9f64270a8a482bbe9bd93a94c8587f",
            "387e385f87394dbe9aeaf33a24d4c561",
            "5dd859a86a044d9581e2bd06bb07c8a0",
            "3bad1ae7282f4d4d80d03cf1cebf14ed",
            "02c1a445f58a4e98933f7fb95ecc5876",
            "f58e82f1ff4046c6b7b382411cf33333",
            "7217fdb856b84174b066f20876d61a96",
            "29154d9dda264c0f97d9a9012ca9400f",
            "f0bab32a13a149898dd12bedd3c4f3b0",
            "4e60baeb45b74a39be1af024fd4686a4",
            "68cddb48410d4c07a90a61d8bc7a57ff",
            "27d96c348fa4469b9e575242ad32523f"
          ]
        },
        "id": "NSwJLgx8yegO",
        "outputId": "865206d6-1350-4725-9370-691251ae88cb"
      },
      "execution_count": 65,
      "outputs": [
        {
          "output_type": "display_data",
          "data": {
            "text/plain": [
              "Output()"
            ],
            "application/vnd.jupyter.widget-view+json": {
              "version_major": 2,
              "version_minor": 0,
              "model_id": "90a9a8661ab541e184c06ef7166cbe75"
            }
          },
          "metadata": {}
        }
      ]
    }
  ]
}